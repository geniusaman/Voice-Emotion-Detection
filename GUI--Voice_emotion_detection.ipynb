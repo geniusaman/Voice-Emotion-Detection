{
 "cells": [
  {
   "cell_type": "code",
   "execution_count": null,
   "id": "36899ed0",
   "metadata": {},
   "outputs": [
    {
     "name": "stderr",
     "output_type": "stream",
     "text": [
      "[nltk_data] Downloading package vader_lexicon to\n",
      "[nltk_data]     C:\\Users\\USER\\AppData\\Roaming\\nltk_data...\n",
      "[nltk_data]   Package vader_lexicon is already up-to-date!\n"
     ]
    },
    {
     "name": "stdout",
     "output_type": "stream",
     "text": [
      "Please say something...\n",
      "Could not understand audio\n",
      "Please say something...\n",
      "Text from voice: I\n",
      "Please say something...\n",
      "Could not understand audio\n",
      "Please say something...\n",
      "Text from voice: what are you doing\n"
     ]
    }
   ],
   "source": [
    "import tkinter as tk\n",
    "from tkinter import Label, Button\n",
    "import speech_recognition as sr\n",
    "from nltk.sentiment import SentimentIntensityAnalyzer\n",
    "import nltk\n",
    "\n",
    "# Download the VADER lexicon\n",
    "nltk.download('vader_lexicon')\n",
    "\n",
    "class VoiceSentimentAnalyzerApp:\n",
    "    def __init__(self, master):\n",
    "        self.master = master\n",
    "        master.title(\"Voice Sentiment Analyzer\")\n",
    "\n",
    "        self.sentiment_label = Label(master, text=\"Sentiment:\")\n",
    "        self.sentiment_label.pack()\n",
    "\n",
    "        self.listen_button = Button(master, text=\"Start Listening\", command=self.get_voice_tone)\n",
    "        self.listen_button.pack()\n",
    "\n",
    "    def get_text_sentiment(self, text):\n",
    "        sia = SentimentIntensityAnalyzer()\n",
    "        sentiment_score = sia.polarity_scores(text)['compound']\n",
    "\n",
    "        if sentiment_score >= 0.05:\n",
    "            return \"positive\"\n",
    "        elif sentiment_score <= -0.05:\n",
    "            return \"negative\"\n",
    "        else:\n",
    "            return \"neutral\"\n",
    "\n",
    "    def get_voice_tone(self):\n",
    "        recognizer = sr.Recognizer()\n",
    "\n",
    "        with sr.Microphone() as source:\n",
    "            print(\"Please say something...\")\n",
    "            recognizer.adjust_for_ambient_noise(source)\n",
    "            audio_data = recognizer.listen(source, timeout=5)\n",
    "\n",
    "        try:\n",
    "            text = recognizer.recognize_google(audio_data)\n",
    "            print(f\"Text from voice: {text}\")\n",
    "            sentiment = self.get_text_sentiment(text)\n",
    "            self.sentiment_label.config(text=f\"Sentiment: {sentiment}\")\n",
    "        except sr.UnknownValueError:\n",
    "            print(\"Could not understand audio\")\n",
    "        except sr.RequestError as e:\n",
    "            print(f\"Could not request results from Google Speech Recognition service; {e}\")\n",
    "\n",
    "if __name__ == \"__main__\":\n",
    "    root = tk.Tk()\n",
    "    app = VoiceSentimentAnalyzerApp(root)\n",
    "    root.mainloop()\n"
   ]
  },
  {
   "cell_type": "code",
   "execution_count": null,
   "id": "b36e38b3",
   "metadata": {},
   "outputs": [],
   "source": []
  }
 ],
 "metadata": {
  "kernelspec": {
   "display_name": "Python 3 (ipykernel)",
   "language": "python",
   "name": "python3"
  },
  "language_info": {
   "codemirror_mode": {
    "name": "ipython",
    "version": 3
   },
   "file_extension": ".py",
   "mimetype": "text/x-python",
   "name": "python",
   "nbconvert_exporter": "python",
   "pygments_lexer": "ipython3",
   "version": "3.11.5"
  }
 },
 "nbformat": 4,
 "nbformat_minor": 5
}
